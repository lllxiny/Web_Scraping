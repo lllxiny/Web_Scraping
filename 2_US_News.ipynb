{
 "cells": [
  {
   "cell_type": "markdown",
   "id": "ec8d08b9",
   "metadata": {},
   "source": [
    "<font face=\"Calibri\" size=6>US News Top Stories"
   ]
  },
  {
   "cell_type": "code",
   "execution_count": 2,
   "id": "27ef7fc8",
   "metadata": {},
   "outputs": [],
   "source": [
    "from bs4 import BeautifulSoup\n",
    "import requests\n",
    "import urllib\n",
    "import re\n",
    "import pandas as pd"
   ]
  },
  {
   "cell_type": "code",
   "execution_count": 3,
   "id": "134786b5",
   "metadata": {},
   "outputs": [],
   "source": [
    "# Specify headers\n",
    "headers = {'User-agent':'Mozilla/5.0 (Macintosh; Intel Mac OS X 10_15_7) AppleWebKit/537.36 (KHTML, like Gecko) Chrome/108.0.0.0 Safari/537.36'}\n",
    "\n",
    "#Send request with requests.get\n",
    "usnewsReq = requests.get(url=\"https://www.usnews.com/\", headers=headers)\n",
    "\n",
    "# Store the text\n",
    "usnewsVal = BeautifulSoup(usnewsReq.text,'html.parser')"
   ]
  },
  {
   "cell_type": "code",
   "execution_count": 4,
   "id": "d00dbc1b",
   "metadata": {},
   "outputs": [],
   "source": [
    "#Finds current \"Top Stories\"\n",
    "usnews2 = usnewsVal.find('div', attrs={'class':'Box-w0dun1-0 ArmRestTopStories__Part-s0vo7p-1 erkdnc biVKSR'})"
   ]
  },
  {
   "cell_type": "code",
   "execution_count": 5,
   "id": "1c39e268",
   "metadata": {},
   "outputs": [
    {
     "name": "stdout",
     "output_type": "stream",
     "text": [
      "SCOTUS Delays Abortion Ruling https://www.usnews.com/news/national-news/articles/2023-04-19/supreme-court-punts-decision-on-medication-abortion-until-friday\n",
      "Air Force Stands Down Teixeira’s Unit https://www.usnews.com/news/national-news/articles/2023-04-19/air-force-strips-teixeiras-unit-of-intelligence-duties-amid-service-wide-review\n"
     ]
    }
   ],
   "source": [
    "for a in usnews2.select('h3>a'):\n",
    "  print(a.text,a['href'])"
   ]
  },
  {
   "cell_type": "code",
   "execution_count": 6,
   "id": "4d4412f7",
   "metadata": {},
   "outputs": [
    {
     "name": "stdout",
     "output_type": "stream",
     "text": [
      "Air Force Stands Down Teixeira’s Unit https://www.usnews.com/news/national-news/articles/2023-04-19/air-force-strips-teixeiras-unit-of-intelligence-duties-amid-service-wide-review\n"
     ]
    }
   ],
   "source": [
    "for b in usnews2.select('div > h3')[1]:\n",
    "  print(b.text,b['href']) \n",
    "  urlTop2 = b['href']"
   ]
  },
  {
   "cell_type": "code",
   "execution_count": 7,
   "id": "7efb5850",
   "metadata": {},
   "outputs": [],
   "source": [
    "#Send request with requests.get\n",
    "usnewsTop2 = requests.get(url=urlTop2, headers=headers)\n",
    "\n",
    "# Store the text\n",
    "usnewsTop2Val = BeautifulSoup(usnewsTop2.text,'html.parser')\n",
    "\n",
    "# Select the title\n",
    "usnewsTop2Title = usnewsTop2Val.select('h1', attrs={'class':'Heading-sc-1w5xk2o-0 iQhOvV'})\n",
    "\n",
    "usnewsTop2Content = usnewsTop2Val.select('div.Raw-slyvem-0.bCYKCn > p')"
   ]
  },
  {
   "cell_type": "code",
   "execution_count": 8,
   "id": "983c4843",
   "metadata": {},
   "outputs": [],
   "source": [
    "# Remove all < > and </ > and [ and ]\n",
    "usnewsTop2Title = re.sub('<.+?>|\\[|\\]',\"\",str(usnewsTop2Title))\n",
    "usnewsTop2Content = re.sub('<.+?>|\\[|\\]',\"\",str(usnewsTop2Content))\n",
    "usnewsTop2Content = re.sub('(\\,\\s\\,)',' ',str(usnewsTop2Content))\n",
    "usnewsTop2Content = re.sub('(\\.\\,)','.',str(usnewsTop2Content))"
   ]
  },
  {
   "cell_type": "code",
   "execution_count": 9,
   "id": "0aaad4c1",
   "metadata": {},
   "outputs": [
    {
     "name": "stdout",
     "output_type": "stream",
     "text": [
      "Air Force Strips Teixeira’s Unit of Intelligence Duties Amid Service-Wide Review \n",
      " The Air Force has temporarily suspended the intelligence unit that had employed a member of the Massachusetts Air National Guard arrested last week for orchestrating one of the most massive and potentially ongoing breaches of top secret documents in recent history. \n",
      " “The 102nd Intelligence Wing is not currently performing its assigned intelligence mission,” Air Force spokeswoman Ann Stefanek says in an emailed statement of the Cape Cod-based unit, a part of the Massachusetts Guard. \n",
      " “The mission has been temporarily reassigned to other organizations within the Air Force.”  The decision regarding the 102nd Wing comes as the Air Force – and indeed the entire U.S.\n"
     ]
    }
   ],
   "source": [
    "usnewsTop2Content_1 = re.split(r'(?<=[.:;])\\s', usnewsTop2Content)[:3]\n",
    "summary = ' '.join(usnewsTop2Content_1[:4])\n",
    "print(usnewsTop2Title,'\\n', str(usnewsTop2Content_1[0]),'\\n',str(usnewsTop2Content_1[1]),'\\n',str(usnewsTop2Content_1[2]),)"
   ]
  },
  {
   "cell_type": "markdown",
   "id": "1c15651b",
   "metadata": {},
   "source": [
    " "
   ]
  }
 ],
 "metadata": {
  "kernelspec": {
   "display_name": "Python 3 (ipykernel)",
   "language": "python",
   "name": "python3"
  },
  "language_info": {
   "codemirror_mode": {
    "name": "ipython",
    "version": 3
   },
   "file_extension": ".py",
   "mimetype": "text/x-python",
   "name": "python",
   "nbconvert_exporter": "python",
   "pygments_lexer": "ipython3",
   "version": "3.10.8"
  },
  "toc": {
   "base_numbering": 1,
   "nav_menu": {},
   "number_sections": true,
   "sideBar": true,
   "skip_h1_title": false,
   "title_cell": "Table of Contents",
   "title_sidebar": "Contents",
   "toc_cell": false,
   "toc_position": {},
   "toc_section_display": true,
   "toc_window_display": false
  }
 },
 "nbformat": 4,
 "nbformat_minor": 5
}
