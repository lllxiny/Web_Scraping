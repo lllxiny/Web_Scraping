{
 "cells": [
  {
   "cell_type": "markdown",
   "id": "ec8d08b9",
   "metadata": {},
   "source": [
    "<font face=\"Calibri\" size=6>Tiger Direct Price"
   ]
  },
  {
   "cell_type": "code",
   "execution_count": 94,
   "id": "27ef7fc8",
   "metadata": {},
   "outputs": [],
   "source": [
    "from bs4 import BeautifulSoup\n",
    "import requests\n",
    "import urllib\n",
    "import re\n",
    "import pandas as pd"
   ]
  },
  {
   "cell_type": "code",
   "execution_count": 185,
   "id": "6e1d6f0e",
   "metadata": {},
   "outputs": [],
   "source": [
    "# Specify headers\n",
    "headers = {'User-agent':'Mozilla/5.0 (Macintosh; Intel Mac OS X 10_15_7) AppleWebKit/537.36 (KHTML, like Gecko) Chrome/108.0.0.0 Safari/537.36'}\n",
    "\n",
    "#Send request with requests.get\n",
    "\n",
    "tigerReq = requests.get(url=\"https://www.tigerdirect.com/applications/SearchTools/item-details.asp?EdpNo=1501390\", headers=headers)\n",
    "\n",
    "# Parse the text\n",
    "tigerVal = BeautifulSoup(tigerReq.text,'html.parser')\n"
   ]
  },
  {
   "cell_type": "code",
   "execution_count": 186,
   "id": "88ad1c4f",
   "metadata": {},
   "outputs": [],
   "source": [
    "# Select the list prices and save to strings\n",
    "tigerListPrice1 = tigerVal.select(\"div.col-sm-12 > div.pdp-info > div.pdp-price > p.list-price\")\n",
    "tigerListPrice = (str(tigerListPrice1))"
   ]
  },
  {
   "cell_type": "code",
   "execution_count": 187,
   "id": "b927c9e8",
   "metadata": {
    "scrolled": true
   },
   "outputs": [],
   "source": [
    "# Select the last prices and save to strings\n",
    "\n",
    "tigerLastPrice1 = tigerVal.select(\"div.col-sm-12 > div.pdp-info > div.pdp-price > p.final-price\")\n",
    "tigerLastPrice = (str(tigerLastPrice1))"
   ]
  },
  {
   "cell_type": "code",
   "execution_count": 201,
   "id": "5ceb710d",
   "metadata": {},
   "outputs": [],
   "source": [
    "# Remove everything but dollar signs and price number\n",
    "\n",
    "tigerListPrice = re.sub('(and)',\".\",str(tigerListPrice))\n",
    "tigerLastPrice = re.sub('(and)',\".\",str(tigerLastPrice))\n",
    "\n",
    "# Remove everything but commas and price number\n",
    "\n",
    "tigerListPrice = re.sub('[^\\d+\\.(,\\d{1,2})?]',\"'\",str(tigerListPrice))\n",
    "tigerLastPrice = re.sub('[^\\d+\\.(,\\d{1,2})?]',\"'\",str(tigerLastPrice ))\n",
    "\n",
    "# Remove commas\n",
    "\n",
    "tigerListPrice = re.sub(',',\"\",str(tigerListPrice))\n",
    "tigerLastPrice = re.sub(',',\"\",str(tigerLastPrice))\n",
    "\n",
    "# Remove '\n",
    "\n",
    "tigerListPrice = re.sub('\\'\\'\\'\\'\\'\\'\\'\\'\\'\\'\\'\\'\\'\\'\\.\\'',\".\",str(tigerListPrice))\n",
    "tigerLastPrice = re.sub('\\'\\'\\'\\'\\'\\'\\'\\'\\'\\'\\'\\'\\'\\'\\.\\'',\".\",str(tigerLastPrice))\n",
    "\n",
    "# Remove '\n",
    "\n",
    "tigerListPrice = re.sub('\\'\\'\\'\\'\\'\\'\\'\\'\\'\\'\\'\\'\\.\\'',\".\",str(tigerListPrice))\n",
    "tigerLastPrice = re.sub('\\'\\'\\'\\'\\'\\'\\'\\'\\'\\'\\'\\'\\.\\'',\".\",str(tigerLastPrice))\n",
    "\n",
    "# Print the prices\n",
    "\n",
    "tigerListPrice = re.findall('\\d+\\.\\d+',str(tigerListPrice))\n",
    "tigerLastPrice = re.findall('\\d+\\.\\d+',str(tigerLastPrice))"
   ]
  },
  {
   "cell_type": "code",
   "execution_count": 212,
   "id": "6bca7468",
   "metadata": {},
   "outputs": [
    {
     "name": "stdout",
     "output_type": "stream",
     "text": [
      "List prices: ['1399.99']\n",
      "Last prices: ['1029.99']\n"
     ]
    }
   ],
   "source": [
    "# Remove dupilicated prices\n",
    "tiger_List_unique = list(dict.fromkeys(tigerListPrice))\n",
    "print('List prices:',tiger_List_unique)\n",
    "tiger_Last_unique = list(dict.fromkeys(tigerLastPrice))\n",
    "print('Last prices:',tiger_Last_unique)"
   ]
  }
 ],
 "metadata": {
  "kernelspec": {
   "display_name": "Python 3 (ipykernel)",
   "language": "python",
   "name": "python3"
  },
  "language_info": {
   "codemirror_mode": {
    "name": "ipython",
    "version": 3
   },
   "file_extension": ".py",
   "mimetype": "text/x-python",
   "name": "python",
   "nbconvert_exporter": "python",
   "pygments_lexer": "ipython3",
   "version": "3.10.8"
  },
  "toc": {
   "base_numbering": 1,
   "nav_menu": {},
   "number_sections": true,
   "sideBar": true,
   "skip_h1_title": false,
   "title_cell": "Table of Contents",
   "title_sidebar": "Contents",
   "toc_cell": false,
   "toc_position": {},
   "toc_section_display": true,
   "toc_window_display": false
  }
 },
 "nbformat": 4,
 "nbformat_minor": 5
}
